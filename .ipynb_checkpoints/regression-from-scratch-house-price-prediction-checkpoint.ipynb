{
 "cells": [
  {
   "cell_type": "markdown",
   "metadata": {},
   "source": [
    "# REGRESSION From Scratch With BOSTON HOUSE PRICE PREDICTION"
   ]
  },
  {
   "cell_type": "markdown",
   "metadata": {},
   "source": [
    "<img src='https://drive.google.com/uc?id=1rxqFy4bsnYH325VpZwjZVeKfgKa1b4oS' width=1000 >"
   ]
  },
  {
   "cell_type": "markdown",
   "metadata": {},
   "source": [
    "### In this Notebook we will Learn:-\n",
    "* Basic EDA.\n",
    "* Aplly Scaling on Feature matrix.\n",
    "* Dimensionality Reduction (PCA) .\n",
    "* K-Cross validation to check accuracy.\n",
    "* Multi-linear Regression\n",
    "* Polynomial Regression\n",
    "* Support Vector Regressor (SVR)\n",
    "* Decision Tress Regressor \n",
    "* Random Forest Regressor"
   ]
  },
  {
   "cell_type": "code",
   "execution_count": 1,
   "metadata": {
    "_cell_guid": "b1076dfc-b9ad-4769-8c92-a6c4dae69d19",
    "_uuid": "8f2839f25d086af736a60e9eeb907d3b93b6e0e5"
   },
   "outputs": [
    {
     "data": {
      "text/html": [
       "<script type=\"text/javascript\">window.PlotlyConfig = {MathJaxConfig: 'local'};</script><script type=\"text/javascript\">if (window.MathJax) {MathJax.Hub.Config({SVG: {font: \"STIX-Web\"}});}</script><script>requirejs.config({paths: { 'plotly': ['https://cdn.plot.ly/plotly-latest.min']},});if(!window._Plotly) {require(['plotly'],function(plotly) {window._Plotly=plotly;});}</script>"
      ],
      "text/vnd.plotly.v1+html": [
       "<script type=\"text/javascript\">window.PlotlyConfig = {MathJaxConfig: 'local'};</script><script type=\"text/javascript\">if (window.MathJax) {MathJax.Hub.Config({SVG: {font: \"STIX-Web\"}});}</script><script>requirejs.config({paths: { 'plotly': ['https://cdn.plot.ly/plotly-latest.min']},});if(!window._Plotly) {require(['plotly'],function(plotly) {window._Plotly=plotly;});}</script>"
      ]
     },
     "metadata": {},
     "output_type": "display_data"
    },
    {
     "data": {
      "text/html": [
       "<script type=\"text/javascript\">window.PlotlyConfig = {MathJaxConfig: 'local'};</script><script type=\"text/javascript\">if (window.MathJax) {MathJax.Hub.Config({SVG: {font: \"STIX-Web\"}});}</script><script>requirejs.config({paths: { 'plotly': ['https://cdn.plot.ly/plotly-latest.min']},});if(!window._Plotly) {require(['plotly'],function(plotly) {window._Plotly=plotly;});}</script>"
      ],
      "text/vnd.plotly.v1+html": [
       "<script type=\"text/javascript\">window.PlotlyConfig = {MathJaxConfig: 'local'};</script><script type=\"text/javascript\">if (window.MathJax) {MathJax.Hub.Config({SVG: {font: \"STIX-Web\"}});}</script><script>requirejs.config({paths: { 'plotly': ['https://cdn.plot.ly/plotly-latest.min']},});if(!window._Plotly) {require(['plotly'],function(plotly) {window._Plotly=plotly;});}</script>"
      ]
     },
     "metadata": {},
     "output_type": "display_data"
    },
    {
     "name": "stdout",
     "output_type": "stream",
     "text": [
      "['housing.csv']\n",
      "\n"
     ]
    }
   ],
   "source": [
    "# This Python 3 environment comes with many helpful analytics libraries installed\n",
    "# It is defined by the kaggle/python docker image: https://github.com/kaggle/docker-python\n",
    "# For example, here's several helpful packages to load in \n",
    "\n",
    "import numpy as np # linear algebra\n",
    "import pandas as pd # data processing, CSV file I/O (e.g. pd.read_csv)\n",
    "import matplotlib.pyplot as plt\n",
    "import seaborn as sns\n",
    "from plotly.offline import init_notebook_mode, download_plotlyjs, iplot\n",
    "import cufflinks as cf\n",
    "init_notebook_mode(connected=True)\n",
    "cf.go_offline()\n",
    "import warnings\n",
    "warnings.filterwarnings('ignore')\n",
    "\n",
    "\n",
    "# Input data files are available in the \"../input/\" directory.\n",
    "# For example, running this (by clicking run or pressing Shift+Enter) will list the files in the input directory\n",
    "\n",
    "import os\n",
    "print(os.listdir(\"input\"))\n",
    "print()\n",
    "\n",
    "\n",
    "# Any results you write to the current directory are saved as output."
   ]
  },
  {
   "cell_type": "code",
   "execution_count": 2,
   "metadata": {
    "_cell_guid": "79c7e3d0-c299-4dcb-8224-4455121ee9b0",
    "_uuid": "d629ff2d2480ee46fbb7e2d37f6b5fab8052498a"
   },
   "outputs": [],
   "source": [
    "# Importing the dataset.\n",
    "names = ['CRIM', 'ZN', 'INDUS', 'CHAS', 'NOX', 'RM', 'AGE', 'DIS', 'RAD', 'TAX', 'PTRATIO', 'B', 'LSTAT', 'MEDV']\n",
    "\n",
    "try:\n",
    "    df = pd.read_csv('../input/housing.csv', delim_whitespace=True, names=names)\n",
    "except Exception as e:\n",
    "        df = pd.read_csv('input/housing.csv', delim_whitespace=True, names=names)\n"
   ]
  },
  {
   "cell_type": "code",
   "execution_count": 3,
   "metadata": {},
   "outputs": [
    {
     "data": {
      "text/html": [
       "<div>\n",
       "<style scoped>\n",
       "    .dataframe tbody tr th:only-of-type {\n",
       "        vertical-align: middle;\n",
       "    }\n",
       "\n",
       "    .dataframe tbody tr th {\n",
       "        vertical-align: top;\n",
       "    }\n",
       "\n",
       "    .dataframe thead th {\n",
       "        text-align: right;\n",
       "    }\n",
       "</style>\n",
       "<table border=\"1\" class=\"dataframe\">\n",
       "  <thead>\n",
       "    <tr style=\"text-align: right;\">\n",
       "      <th></th>\n",
       "      <th>CRIM</th>\n",
       "      <th>ZN</th>\n",
       "      <th>INDUS</th>\n",
       "      <th>CHAS</th>\n",
       "      <th>NOX</th>\n",
       "      <th>RM</th>\n",
       "      <th>AGE</th>\n",
       "      <th>DIS</th>\n",
       "      <th>RAD</th>\n",
       "      <th>TAX</th>\n",
       "      <th>PTRATIO</th>\n",
       "      <th>B</th>\n",
       "      <th>LSTAT</th>\n",
       "      <th>MEDV</th>\n",
       "    </tr>\n",
       "  </thead>\n",
       "  <tbody>\n",
       "    <tr>\n",
       "      <th>0</th>\n",
       "      <td>0.00632</td>\n",
       "      <td>18.0</td>\n",
       "      <td>2.31</td>\n",
       "      <td>0</td>\n",
       "      <td>0.538</td>\n",
       "      <td>6.575</td>\n",
       "      <td>65.2</td>\n",
       "      <td>4.0900</td>\n",
       "      <td>1</td>\n",
       "      <td>296.0</td>\n",
       "      <td>15.3</td>\n",
       "      <td>396.90</td>\n",
       "      <td>4.98</td>\n",
       "      <td>24.0</td>\n",
       "    </tr>\n",
       "    <tr>\n",
       "      <th>1</th>\n",
       "      <td>0.02731</td>\n",
       "      <td>0.0</td>\n",
       "      <td>7.07</td>\n",
       "      <td>0</td>\n",
       "      <td>0.469</td>\n",
       "      <td>6.421</td>\n",
       "      <td>78.9</td>\n",
       "      <td>4.9671</td>\n",
       "      <td>2</td>\n",
       "      <td>242.0</td>\n",
       "      <td>17.8</td>\n",
       "      <td>396.90</td>\n",
       "      <td>9.14</td>\n",
       "      <td>21.6</td>\n",
       "    </tr>\n",
       "    <tr>\n",
       "      <th>2</th>\n",
       "      <td>0.02729</td>\n",
       "      <td>0.0</td>\n",
       "      <td>7.07</td>\n",
       "      <td>0</td>\n",
       "      <td>0.469</td>\n",
       "      <td>7.185</td>\n",
       "      <td>61.1</td>\n",
       "      <td>4.9671</td>\n",
       "      <td>2</td>\n",
       "      <td>242.0</td>\n",
       "      <td>17.8</td>\n",
       "      <td>392.83</td>\n",
       "      <td>4.03</td>\n",
       "      <td>34.7</td>\n",
       "    </tr>\n",
       "    <tr>\n",
       "      <th>3</th>\n",
       "      <td>0.03237</td>\n",
       "      <td>0.0</td>\n",
       "      <td>2.18</td>\n",
       "      <td>0</td>\n",
       "      <td>0.458</td>\n",
       "      <td>6.998</td>\n",
       "      <td>45.8</td>\n",
       "      <td>6.0622</td>\n",
       "      <td>3</td>\n",
       "      <td>222.0</td>\n",
       "      <td>18.7</td>\n",
       "      <td>394.63</td>\n",
       "      <td>2.94</td>\n",
       "      <td>33.4</td>\n",
       "    </tr>\n",
       "    <tr>\n",
       "      <th>4</th>\n",
       "      <td>0.06905</td>\n",
       "      <td>0.0</td>\n",
       "      <td>2.18</td>\n",
       "      <td>0</td>\n",
       "      <td>0.458</td>\n",
       "      <td>7.147</td>\n",
       "      <td>54.2</td>\n",
       "      <td>6.0622</td>\n",
       "      <td>3</td>\n",
       "      <td>222.0</td>\n",
       "      <td>18.7</td>\n",
       "      <td>396.90</td>\n",
       "      <td>5.33</td>\n",
       "      <td>36.2</td>\n",
       "    </tr>\n",
       "  </tbody>\n",
       "</table>\n",
       "</div>"
      ],
      "text/plain": [
       "      CRIM    ZN  INDUS  CHAS    NOX     RM   AGE     DIS  RAD    TAX  \\\n",
       "0  0.00632  18.0   2.31     0  0.538  6.575  65.2  4.0900    1  296.0   \n",
       "1  0.02731   0.0   7.07     0  0.469  6.421  78.9  4.9671    2  242.0   \n",
       "2  0.02729   0.0   7.07     0  0.469  7.185  61.1  4.9671    2  242.0   \n",
       "3  0.03237   0.0   2.18     0  0.458  6.998  45.8  6.0622    3  222.0   \n",
       "4  0.06905   0.0   2.18     0  0.458  7.147  54.2  6.0622    3  222.0   \n",
       "\n",
       "   PTRATIO       B  LSTAT  MEDV  \n",
       "0     15.3  396.90   4.98  24.0  \n",
       "1     17.8  396.90   9.14  21.6  \n",
       "2     17.8  392.83   4.03  34.7  \n",
       "3     18.7  394.63   2.94  33.4  \n",
       "4     18.7  396.90   5.33  36.2  "
      ]
     },
     "execution_count": 3,
     "metadata": {},
     "output_type": "execute_result"
    }
   ],
   "source": [
    "df.head()"
   ]
  },
  {
   "cell_type": "markdown",
   "metadata": {},
   "source": [
    "* In this dataset MEDV is our Target, we have to predict the values of MEDV on the basis of all other variables.\n",
    "* MEDV: Median value of owner-occupied homes in $1000s \n",
    "* Our task is to predict the value of MEDV."
   ]
  },
  {
   "cell_type": "code",
   "execution_count": 4,
   "metadata": {},
   "outputs": [
    {
     "name": "stdout",
     "output_type": "stream",
     "text": [
      "<class 'pandas.core.frame.DataFrame'>\n",
      "RangeIndex: 506 entries, 0 to 505\n",
      "Data columns (total 14 columns):\n",
      "CRIM       506 non-null float64\n",
      "ZN         506 non-null float64\n",
      "INDUS      506 non-null float64\n",
      "CHAS       506 non-null int64\n",
      "NOX        506 non-null float64\n",
      "RM         506 non-null float64\n",
      "AGE        506 non-null float64\n",
      "DIS        506 non-null float64\n",
      "RAD        506 non-null int64\n",
      "TAX        506 non-null float64\n",
      "PTRATIO    506 non-null float64\n",
      "B          506 non-null float64\n",
      "LSTAT      506 non-null float64\n",
      "MEDV       506 non-null float64\n",
      "dtypes: float64(12), int64(2)\n",
      "memory usage: 55.4 KB\n"
     ]
    }
   ],
   "source": [
    "df.info()"
   ]
  },
  {
   "cell_type": "markdown",
   "metadata": {},
   "source": [
    "* There is no null values in the dataset and all values are in their proper format.\n",
    "* Dataset is in its proper format, so we will go to regression model."
   ]
  },
  {
   "cell_type": "code",
   "execution_count": 5,
   "metadata": {},
   "outputs": [
    {
     "data": {
      "application/vnd.plotly.v1+json": {
       "config": {
        "linkText": "Export to plot.ly",
        "plotlyServerURL": "https://plot.ly",
        "showLink": true
       },
       "data": [
        {
         "colorscale": [
          [
           0,
           "rgb(255, 153, 51)"
          ],
          [
           0.1111111111111111,
           "rgb(55, 128, 191)"
          ],
          [
           0.2222222222222222,
           "rgb(50, 171, 96)"
          ],
          [
           0.3333333333333333,
           "rgb(128, 0, 128)"
          ],
          [
           0.4444444444444444,
           "rgb(219, 64, 82)"
          ],
          [
           0.5555555555555556,
           "rgb(0, 128, 128)"
          ],
          [
           0.6666666666666666,
           "rgb(255, 255, 51)"
          ],
          [
           0.7777777777777778,
           "rgb(128, 128, 0)"
          ],
          [
           0.8888888888888888,
           "rgb(251, 128, 114)"
          ],
          [
           1,
           "rgb(128, 177, 211)"
          ]
         ],
         "type": "heatmap",
         "uid": "1fded19b-5281-422b-a978-e9ea243505f7",
         "x": [
          "CRIM",
          "ZN",
          "INDUS",
          "CHAS",
          "NOX",
          "RM",
          "AGE",
          "DIS",
          "RAD",
          "TAX",
          "PTRATIO",
          "B",
          "LSTAT",
          "MEDV"
         ],
         "y": [
          "CRIM",
          "ZN",
          "INDUS",
          "CHAS",
          "NOX",
          "RM",
          "AGE",
          "DIS",
          "RAD",
          "TAX",
          "PTRATIO",
          "B",
          "LSTAT",
          "MEDV"
         ],
         "z": [
          [
           1,
           -0.20046921966254821,
           0.4065834114062593,
           -0.055891582222241235,
           0.4209717113924559,
           -0.21924670286251377,
           0.3527342509013635,
           -0.3796700869510245,
           0.6255051452626011,
           0.5827643120325846,
           0.2899455792795197,
           -0.38506394199422433,
           0.4556214794479462,
           -0.3883046085868114
          ],
          [
           -0.20046921966254821,
           1,
           -0.5338281863044747,
           -0.04269671929612121,
           -0.5166037078279853,
           0.31199058737409197,
           -0.5695373420992127,
           0.6644082227621132,
           -0.31194782601853754,
           -0.31456332467759884,
           -0.3916785479362142,
           0.17552031738282844,
           -0.4129945745270045,
           0.3604453424505447
          ],
          [
           0.4065834114062593,
           -0.5338281863044747,
           1,
           0.0629380274896654,
           0.7636514469209145,
           -0.39167585265684357,
           0.644778511355255,
           -0.7080269887427683,
           0.5951292746038486,
           0.7207601799515441,
           0.38324755642888675,
           -0.3569765351041929,
           0.6037997164766213,
           -0.483725160028373
          ],
          [
           -0.055891582222241235,
           -0.04269671929612121,
           0.0629380274896654,
           1,
           0.09120280684249406,
           0.09125122504345595,
           0.08651777425454257,
           -0.09917578017472706,
           -0.007368240886077726,
           -0.03558651758591118,
           -0.121515173658062,
           0.04878848495516622,
           -0.05392929837569404,
           0.1752601771902975
          ],
          [
           0.4209717113924559,
           -0.5166037078279853,
           0.7636514469209145,
           0.09120280684249406,
           1,
           -0.3021881878495933,
           0.7314701037859579,
           -0.7692301132258261,
           0.6114405634855754,
           0.6680232004030201,
           0.18893267711276665,
           -0.3800506377924003,
           0.5908789208808449,
           -0.4273207723732817
          ],
          [
           -0.21924670286251377,
           0.31199058737409197,
           -0.39167585265684357,
           0.09125122504345595,
           -0.3021881878495933,
           1,
           -0.24026493104775123,
           0.20524621293005516,
           -0.20984666776610877,
           -0.29204783262321915,
           -0.3555014945590849,
           0.1280686350925431,
           -0.6138082718663957,
           0.6953599470715389
          ],
          [
           0.3527342509013635,
           -0.5695373420992127,
           0.644778511355255,
           0.08651777425454257,
           0.7314701037859579,
           -0.24026493104775123,
           1,
           -0.7478805408686316,
           0.4560224517516134,
           0.506455593550705,
           0.2615150116719572,
           -0.27353397663851314,
           0.6023385287262399,
           -0.3769545650045959
          ],
          [
           -0.3796700869510245,
           0.6644082227621132,
           -0.7080269887427683,
           -0.09917578017472706,
           -0.7692301132258261,
           0.20524621293005516,
           -0.7478805408686316,
           1,
           -0.49458792967207543,
           -0.5344315844084561,
           -0.23247054240825624,
           0.2915116731330401,
           -0.4969958308636852,
           0.24992873408590394
          ],
          [
           0.6255051452626011,
           -0.31194782601853754,
           0.5951292746038486,
           -0.007368240886077726,
           0.6114405634855754,
           -0.20984666776610877,
           0.4560224517516134,
           -0.49458792967207543,
           1,
           0.9102281885331822,
           0.46474117850305435,
           -0.44441281557512574,
           0.4886763349750664,
           -0.3816262306397776
          ],
          [
           0.5827643120325846,
           -0.31456332467759884,
           0.7207601799515441,
           -0.03558651758591118,
           0.6680232004030201,
           -0.29204783262321915,
           0.506455593550705,
           -0.5344315844084561,
           0.9102281885331822,
           1,
           0.4608530350656657,
           -0.44180800672281384,
           0.543993412001569,
           -0.46853593356776646
          ],
          [
           0.2899455792795197,
           -0.3916785479362142,
           0.38324755642888675,
           -0.121515173658062,
           0.18893267711276665,
           -0.3555014945590849,
           0.2615150116719572,
           -0.23247054240825624,
           0.46474117850305435,
           0.4608530350656657,
           1,
           -0.17738330230523142,
           0.3740443167146754,
           -0.507786685537561
          ],
          [
           -0.38506394199422433,
           0.17552031738282844,
           -0.3569765351041929,
           0.04878848495516622,
           -0.3800506377924003,
           0.1280686350925431,
           -0.27353397663851314,
           0.2915116731330401,
           -0.44441281557512574,
           -0.44180800672281384,
           -0.17738330230523142,
           1,
           -0.3660869016915971,
           0.33346081965706653
          ],
          [
           0.4556214794479462,
           -0.4129945745270045,
           0.6037997164766213,
           -0.05392929837569404,
           0.5908789208808449,
           -0.6138082718663957,
           0.6023385287262399,
           -0.4969958308636852,
           0.4886763349750664,
           0.543993412001569,
           0.3740443167146754,
           -0.3660869016915971,
           1,
           -0.7376627261740143
          ],
          [
           -0.3883046085868114,
           0.3604453424505447,
           -0.483725160028373,
           0.1752601771902975,
           -0.4273207723732817,
           0.6953599470715389,
           -0.3769545650045959,
           0.24992873408590394,
           -0.3816262306397776,
           -0.46853593356776646,
           -0.507786685537561,
           0.33346081965706653,
           -0.7376627261740143,
           1
          ]
         ],
         "zmax": 1,
         "zmin": -0.7692301132258261
        }
       ],
       "layout": {
        "legend": {
         "bgcolor": "#F5F6F9",
         "font": {
          "color": "#4D5663"
         }
        },
        "paper_bgcolor": "#F5F6F9",
        "plot_bgcolor": "#F5F6F9",
        "title": {
         "font": {
          "color": "#4D5663"
         }
        },
        "xaxis": {
         "gridcolor": "#E1E5ED",
         "showgrid": true,
         "tickfont": {
          "color": "#4D5663"
         },
         "title": {
          "font": {
           "color": "#4D5663"
          },
          "text": ""
         },
         "zerolinecolor": "#E1E5ED"
        },
        "yaxis": {
         "gridcolor": "#E1E5ED",
         "showgrid": true,
         "tickfont": {
          "color": "#4D5663"
         },
         "title": {
          "font": {
           "color": "#4D5663"
          },
          "text": ""
         },
         "zerolinecolor": "#E1E5ED"
        }
       }
      },
      "text/html": [
       "<div id=\"b13eaddf-62ab-4379-9831-178b01afd675\" style=\"height: 525px; width: 100%;\" class=\"plotly-graph-div\"></div><script type=\"text/javascript\">require([\"plotly\"], function(Plotly) { window.PLOTLYENV=window.PLOTLYENV || {};window.PLOTLYENV.BASE_URL=\"https://plot.ly\";\n",
       "if (document.getElementById(\"b13eaddf-62ab-4379-9831-178b01afd675\")) {\n",
       "    Plotly.newPlot(\"b13eaddf-62ab-4379-9831-178b01afd675\", [{\"colorscale\": [[0.0, \"rgb(255, 153, 51)\"], [0.1111111111111111, \"rgb(55, 128, 191)\"], [0.2222222222222222, \"rgb(50, 171, 96)\"], [0.3333333333333333, \"rgb(128, 0, 128)\"], [0.4444444444444444, \"rgb(219, 64, 82)\"], [0.5555555555555556, \"rgb(0, 128, 128)\"], [0.6666666666666666, \"rgb(255, 255, 51)\"], [0.7777777777777778, \"rgb(128, 128, 0)\"], [0.8888888888888888, \"rgb(251, 128, 114)\"], [1.0, \"rgb(128, 177, 211)\"]], \"x\": [\"CRIM\", \"ZN\", \"INDUS\", \"CHAS\", \"NOX\", \"RM\", \"AGE\", \"DIS\", \"RAD\", \"TAX\", \"PTRATIO\", \"B\", \"LSTAT\", \"MEDV\"], \"y\": [\"CRIM\", \"ZN\", \"INDUS\", \"CHAS\", \"NOX\", \"RM\", \"AGE\", \"DIS\", \"RAD\", \"TAX\", \"PTRATIO\", \"B\", \"LSTAT\", \"MEDV\"], \"z\": [[1.0, -0.20046921966254821, 0.4065834114062593, -0.055891582222241235, 0.4209717113924559, -0.21924670286251377, 0.3527342509013635, -0.3796700869510245, 0.6255051452626011, 0.5827643120325846, 0.2899455792795197, -0.38506394199422433, 0.4556214794479462, -0.3883046085868114], [-0.20046921966254821, 1.0, -0.5338281863044747, -0.04269671929612121, -0.5166037078279853, 0.31199058737409197, -0.5695373420992127, 0.6644082227621132, -0.31194782601853754, -0.31456332467759884, -0.3916785479362142, 0.17552031738282844, -0.4129945745270045, 0.3604453424505447], [0.4065834114062593, -0.5338281863044747, 1.0, 0.0629380274896654, 0.7636514469209145, -0.39167585265684357, 0.644778511355255, -0.7080269887427683, 0.5951292746038486, 0.7207601799515441, 0.38324755642888675, -0.3569765351041929, 0.6037997164766213, -0.483725160028373], [-0.055891582222241235, -0.04269671929612121, 0.0629380274896654, 1.0, 0.09120280684249406, 0.09125122504345595, 0.08651777425454257, -0.09917578017472706, -0.007368240886077726, -0.03558651758591118, -0.121515173658062, 0.04878848495516622, -0.05392929837569404, 0.1752601771902975], [0.4209717113924559, -0.5166037078279853, 0.7636514469209145, 0.09120280684249406, 1.0, -0.3021881878495933, 0.7314701037859579, -0.7692301132258261, 0.6114405634855754, 0.6680232004030201, 0.18893267711276665, -0.3800506377924003, 0.5908789208808449, -0.4273207723732817], [-0.21924670286251377, 0.31199058737409197, -0.39167585265684357, 0.09125122504345595, -0.3021881878495933, 1.0, -0.24026493104775123, 0.20524621293005516, -0.20984666776610877, -0.29204783262321915, -0.3555014945590849, 0.1280686350925431, -0.6138082718663957, 0.6953599470715389], [0.3527342509013635, -0.5695373420992127, 0.644778511355255, 0.08651777425454257, 0.7314701037859579, -0.24026493104775123, 1.0, -0.7478805408686316, 0.4560224517516134, 0.506455593550705, 0.2615150116719572, -0.27353397663851314, 0.6023385287262399, -0.3769545650045959], [-0.3796700869510245, 0.6644082227621132, -0.7080269887427683, -0.09917578017472706, -0.7692301132258261, 0.20524621293005516, -0.7478805408686316, 1.0, -0.49458792967207543, -0.5344315844084561, -0.23247054240825624, 0.2915116731330401, -0.4969958308636852, 0.24992873408590394], [0.6255051452626011, -0.31194782601853754, 0.5951292746038486, -0.007368240886077726, 0.6114405634855754, -0.20984666776610877, 0.4560224517516134, -0.49458792967207543, 1.0, 0.9102281885331822, 0.46474117850305435, -0.44441281557512574, 0.4886763349750664, -0.3816262306397776], [0.5827643120325846, -0.31456332467759884, 0.7207601799515441, -0.03558651758591118, 0.6680232004030201, -0.29204783262321915, 0.506455593550705, -0.5344315844084561, 0.9102281885331822, 1.0, 0.4608530350656657, -0.44180800672281384, 0.543993412001569, -0.46853593356776646], [0.2899455792795197, -0.3916785479362142, 0.38324755642888675, -0.121515173658062, 0.18893267711276665, -0.3555014945590849, 0.2615150116719572, -0.23247054240825624, 0.46474117850305435, 0.4608530350656657, 1.0, -0.17738330230523142, 0.3740443167146754, -0.507786685537561], [-0.38506394199422433, 0.17552031738282844, -0.3569765351041929, 0.04878848495516622, -0.3800506377924003, 0.1280686350925431, -0.27353397663851314, 0.2915116731330401, -0.44441281557512574, -0.44180800672281384, -0.17738330230523142, 1.0, -0.3660869016915971, 0.33346081965706653], [0.4556214794479462, -0.4129945745270045, 0.6037997164766213, -0.05392929837569404, 0.5908789208808449, -0.6138082718663957, 0.6023385287262399, -0.4969958308636852, 0.4886763349750664, 0.543993412001569, 0.3740443167146754, -0.3660869016915971, 1.0, -0.7376627261740143], [-0.3883046085868114, 0.3604453424505447, -0.483725160028373, 0.1752601771902975, -0.4273207723732817, 0.6953599470715389, -0.3769545650045959, 0.24992873408590394, -0.3816262306397776, -0.46853593356776646, -0.507786685537561, 0.33346081965706653, -0.7376627261740143, 1.0]], \"zmax\": 1.0, \"zmin\": -0.7692301132258261, \"type\": \"heatmap\", \"uid\": \"4a141570-74c4-43c9-82db-041ab24d1b22\"}], {\"legend\": {\"bgcolor\": \"#F5F6F9\", \"font\": {\"color\": \"#4D5663\"}}, \"paper_bgcolor\": \"#F5F6F9\", \"plot_bgcolor\": \"#F5F6F9\", \"title\": {\"font\": {\"color\": \"#4D5663\"}}, \"xaxis\": {\"gridcolor\": \"#E1E5ED\", \"showgrid\": true, \"tickfont\": {\"color\": \"#4D5663\"}, \"title\": {\"text\": \"\", \"font\": {\"color\": \"#4D5663\"}}, \"zerolinecolor\": \"#E1E5ED\"}, \"yaxis\": {\"gridcolor\": \"#E1E5ED\", \"showgrid\": true, \"tickfont\": {\"color\": \"#4D5663\"}, \"title\": {\"text\": \"\", \"font\": {\"color\": \"#4D5663\"}}, \"zerolinecolor\": \"#E1E5ED\"}}, {\"showLink\": true, \"linkText\": \"Export to plot.ly\", \"plotlyServerURL\": \"https://plot.ly\"}); \n",
       "}\n",
       "});</script><script type=\"text/javascript\">window.addEventListener(\"resize\", function(){if (document.getElementById(\"b13eaddf-62ab-4379-9831-178b01afd675\")) {window._Plotly.Plots.resize(document.getElementById(\"b13eaddf-62ab-4379-9831-178b01afd675\"));};})</script>"
      ],
      "text/vnd.plotly.v1+html": [
       "<div id=\"b13eaddf-62ab-4379-9831-178b01afd675\" style=\"height: 525px; width: 100%;\" class=\"plotly-graph-div\"></div><script type=\"text/javascript\">require([\"plotly\"], function(Plotly) { window.PLOTLYENV=window.PLOTLYENV || {};window.PLOTLYENV.BASE_URL=\"https://plot.ly\";\n",
       "if (document.getElementById(\"b13eaddf-62ab-4379-9831-178b01afd675\")) {\n",
       "    Plotly.newPlot(\"b13eaddf-62ab-4379-9831-178b01afd675\", [{\"colorscale\": [[0.0, \"rgb(255, 153, 51)\"], [0.1111111111111111, \"rgb(55, 128, 191)\"], [0.2222222222222222, \"rgb(50, 171, 96)\"], [0.3333333333333333, \"rgb(128, 0, 128)\"], [0.4444444444444444, \"rgb(219, 64, 82)\"], [0.5555555555555556, \"rgb(0, 128, 128)\"], [0.6666666666666666, \"rgb(255, 255, 51)\"], [0.7777777777777778, \"rgb(128, 128, 0)\"], [0.8888888888888888, \"rgb(251, 128, 114)\"], [1.0, \"rgb(128, 177, 211)\"]], \"x\": [\"CRIM\", \"ZN\", \"INDUS\", \"CHAS\", \"NOX\", \"RM\", \"AGE\", \"DIS\", \"RAD\", \"TAX\", \"PTRATIO\", \"B\", \"LSTAT\", \"MEDV\"], \"y\": [\"CRIM\", \"ZN\", \"INDUS\", \"CHAS\", \"NOX\", \"RM\", \"AGE\", \"DIS\", \"RAD\", \"TAX\", \"PTRATIO\", \"B\", \"LSTAT\", \"MEDV\"], \"z\": [[1.0, -0.20046921966254821, 0.4065834114062593, -0.055891582222241235, 0.4209717113924559, -0.21924670286251377, 0.3527342509013635, -0.3796700869510245, 0.6255051452626011, 0.5827643120325846, 0.2899455792795197, -0.38506394199422433, 0.4556214794479462, -0.3883046085868114], [-0.20046921966254821, 1.0, -0.5338281863044747, -0.04269671929612121, -0.5166037078279853, 0.31199058737409197, -0.5695373420992127, 0.6644082227621132, -0.31194782601853754, -0.31456332467759884, -0.3916785479362142, 0.17552031738282844, -0.4129945745270045, 0.3604453424505447], [0.4065834114062593, -0.5338281863044747, 1.0, 0.0629380274896654, 0.7636514469209145, -0.39167585265684357, 0.644778511355255, -0.7080269887427683, 0.5951292746038486, 0.7207601799515441, 0.38324755642888675, -0.3569765351041929, 0.6037997164766213, -0.483725160028373], [-0.055891582222241235, -0.04269671929612121, 0.0629380274896654, 1.0, 0.09120280684249406, 0.09125122504345595, 0.08651777425454257, -0.09917578017472706, -0.007368240886077726, -0.03558651758591118, -0.121515173658062, 0.04878848495516622, -0.05392929837569404, 0.1752601771902975], [0.4209717113924559, -0.5166037078279853, 0.7636514469209145, 0.09120280684249406, 1.0, -0.3021881878495933, 0.7314701037859579, -0.7692301132258261, 0.6114405634855754, 0.6680232004030201, 0.18893267711276665, -0.3800506377924003, 0.5908789208808449, -0.4273207723732817], [-0.21924670286251377, 0.31199058737409197, -0.39167585265684357, 0.09125122504345595, -0.3021881878495933, 1.0, -0.24026493104775123, 0.20524621293005516, -0.20984666776610877, -0.29204783262321915, -0.3555014945590849, 0.1280686350925431, -0.6138082718663957, 0.6953599470715389], [0.3527342509013635, -0.5695373420992127, 0.644778511355255, 0.08651777425454257, 0.7314701037859579, -0.24026493104775123, 1.0, -0.7478805408686316, 0.4560224517516134, 0.506455593550705, 0.2615150116719572, -0.27353397663851314, 0.6023385287262399, -0.3769545650045959], [-0.3796700869510245, 0.6644082227621132, -0.7080269887427683, -0.09917578017472706, -0.7692301132258261, 0.20524621293005516, -0.7478805408686316, 1.0, -0.49458792967207543, -0.5344315844084561, -0.23247054240825624, 0.2915116731330401, -0.4969958308636852, 0.24992873408590394], [0.6255051452626011, -0.31194782601853754, 0.5951292746038486, -0.007368240886077726, 0.6114405634855754, -0.20984666776610877, 0.4560224517516134, -0.49458792967207543, 1.0, 0.9102281885331822, 0.46474117850305435, -0.44441281557512574, 0.4886763349750664, -0.3816262306397776], [0.5827643120325846, -0.31456332467759884, 0.7207601799515441, -0.03558651758591118, 0.6680232004030201, -0.29204783262321915, 0.506455593550705, -0.5344315844084561, 0.9102281885331822, 1.0, 0.4608530350656657, -0.44180800672281384, 0.543993412001569, -0.46853593356776646], [0.2899455792795197, -0.3916785479362142, 0.38324755642888675, -0.121515173658062, 0.18893267711276665, -0.3555014945590849, 0.2615150116719572, -0.23247054240825624, 0.46474117850305435, 0.4608530350656657, 1.0, -0.17738330230523142, 0.3740443167146754, -0.507786685537561], [-0.38506394199422433, 0.17552031738282844, -0.3569765351041929, 0.04878848495516622, -0.3800506377924003, 0.1280686350925431, -0.27353397663851314, 0.2915116731330401, -0.44441281557512574, -0.44180800672281384, -0.17738330230523142, 1.0, -0.3660869016915971, 0.33346081965706653], [0.4556214794479462, -0.4129945745270045, 0.6037997164766213, -0.05392929837569404, 0.5908789208808449, -0.6138082718663957, 0.6023385287262399, -0.4969958308636852, 0.4886763349750664, 0.543993412001569, 0.3740443167146754, -0.3660869016915971, 1.0, -0.7376627261740143], [-0.3883046085868114, 0.3604453424505447, -0.483725160028373, 0.1752601771902975, -0.4273207723732817, 0.6953599470715389, -0.3769545650045959, 0.24992873408590394, -0.3816262306397776, -0.46853593356776646, -0.507786685537561, 0.33346081965706653, -0.7376627261740143, 1.0]], \"zmax\": 1.0, \"zmin\": -0.7692301132258261, \"type\": \"heatmap\", \"uid\": \"4a141570-74c4-43c9-82db-041ab24d1b22\"}], {\"legend\": {\"bgcolor\": \"#F5F6F9\", \"font\": {\"color\": \"#4D5663\"}}, \"paper_bgcolor\": \"#F5F6F9\", \"plot_bgcolor\": \"#F5F6F9\", \"title\": {\"font\": {\"color\": \"#4D5663\"}}, \"xaxis\": {\"gridcolor\": \"#E1E5ED\", \"showgrid\": true, \"tickfont\": {\"color\": \"#4D5663\"}, \"title\": {\"text\": \"\", \"font\": {\"color\": \"#4D5663\"}}, \"zerolinecolor\": \"#E1E5ED\"}, \"yaxis\": {\"gridcolor\": \"#E1E5ED\", \"showgrid\": true, \"tickfont\": {\"color\": \"#4D5663\"}, \"title\": {\"text\": \"\", \"font\": {\"color\": \"#4D5663\"}}, \"zerolinecolor\": \"#E1E5ED\"}}, {\"showLink\": true, \"linkText\": \"Export to plot.ly\", \"plotlyServerURL\": \"https://plot.ly\"}); \n",
       "}\n",
       "});</script><script type=\"text/javascript\">window.addEventListener(\"resize\", function(){if (document.getElementById(\"b13eaddf-62ab-4379-9831-178b01afd675\")) {window._Plotly.Plots.resize(document.getElementById(\"b13eaddf-62ab-4379-9831-178b01afd675\"));};})</script>"
      ]
     },
     "metadata": {},
     "output_type": "display_data"
    }
   ],
   "source": [
    "df.corr().iplot(kind='heatmap', )"
   ]
  },
  {
   "cell_type": "markdown",
   "metadata": {},
   "source": [
    "#### Observation:-\n",
    "* These are correlation matrix between all variables.\n",
    "* The valriables which are highly correlated with MEDV, we need to select only those variable to make prediction.\n",
    "* But this thing we will do with the help of dimensionalty reduction algorithm (PCA). "
   ]
  },
  {
   "cell_type": "markdown",
   "metadata": {},
   "source": [
    "# REGRESSION:-"
   ]
  },
  {
   "cell_type": "markdown",
   "metadata": {},
   "source": [
    "### Data Preprocessing = \n",
    "                     * In this we will follow 4 steps, MCSS.\n",
    "                     * M = dealing with Missing data\n",
    "                     * C = Dealing with the categorical dataset.\n",
    "                     * S = Splitting of dataset.\n",
    "                     * S = Scaling of the dataset.\n",
    "* As there is no missing values in the dataset.\n",
    "* There is no categorical values in the dataset.\n",
    "* As dataset is very small there is no need to split the dataset.\n",
    "* Before applying the dimensionalty reduction algorithm (PCA), we will follow 1 step i.e. Scaling of dataset."
   ]
  },
  {
   "cell_type": "code",
   "execution_count": 6,
   "metadata": {},
   "outputs": [],
   "source": [
    "# Importing of Useful libraries from sklearn library.\n",
    "from sklearn.preprocessing import StandardScaler   # For Scaling the dataset\n",
    "from sklearn.model_selection import train_test_split    # For Splitting the dataset\n",
    "from sklearn.linear_model import LinearRegression      # For Linear regression\n",
    "from sklearn.svm import SVR\n",
    "from sklearn.tree import DecisionTreeRegressor\n",
    "from sklearn.ensemble import RandomForestRegressor\n",
    "from sklearn.model_selection import cross_val_score"
   ]
  },
  {
   "cell_type": "code",
   "execution_count": 7,
   "metadata": {},
   "outputs": [],
   "source": [
    "# Let us Create Feature matrix and Target Vector.\n",
    "x_train = df.iloc[:,:-1].values\n",
    "y_train = df.iloc[:,-1].values"
   ]
  },
  {
   "cell_type": "markdown",
   "metadata": {},
   "source": [
    "#### Scaling of Feature matrix."
   ]
  },
  {
   "cell_type": "code",
   "execution_count": 8,
   "metadata": {},
   "outputs": [],
   "source": [
    "sc_X=StandardScaler()\n",
    "x_train=sc_X.fit_transform(x_train)"
   ]
  },
  {
   "cell_type": "markdown",
   "metadata": {},
   "source": [
    "#### Dimensionalty Reduction by PCA.\n",
    "* We are doing this to reduce the number of dimensions/features in the dataset.\n",
    "* The features which have less effect on the prediction , we will remove those features.\n",
    "* It also boosts the process.\n",
    "* It saves time.\n",
    "* Here we will use Principal Component Analysis (PCA) with 'rbf' kernel."
   ]
  },
  {
   "cell_type": "code",
   "execution_count": 9,
   "metadata": {},
   "outputs": [
    {
     "data": {
      "text/plain": [
       "array([0.47129606, 0.11025193, 0.0955859 , 0.06596732, 0.06421661,\n",
       "       0.05056978, 0.04118124, 0.03046902, 0.02130333, 0.01694137,\n",
       "       0.0143088 , 0.01302331, 0.00488533])"
      ]
     },
     "execution_count": 9,
     "metadata": {},
     "output_type": "execute_result"
    }
   ],
   "source": [
    "from sklearn.decomposition import PCA\n",
    "pca = PCA(n_components=None)\n",
    "x_train = pca.fit_transform(x_train)\n",
    "\n",
    "explained_variance = pca.explained_variance_ratio_\n",
    "explained_variance\n"
   ]
  },
  {
   "cell_type": "code",
   "execution_count": 10,
   "metadata": {},
   "outputs": [
    {
     "name": "stdout",
     "output_type": "stream",
     "text": [
      "The sum of initial 5 values is \t 0.79 , which is very good.\n",
      "So we will choose 5 number of features and reduce our training feature matrix to 5 features/columns. \n"
     ]
    }
   ],
   "source": [
    "print(f\"The sum of initial 5 values is \\t {0.47+0.11+0.09+0.06+0.06} , which is very good.\" )\n",
    "print(\"So we will choose 5 number of features and reduce our training feature matrix to 5 features/columns. \")\n"
   ]
  },
  {
   "cell_type": "code",
   "execution_count": 11,
   "metadata": {},
   "outputs": [],
   "source": [
    "pca = PCA(n_components=5)\n",
    "x_train = pca.fit_transform(x_train)"
   ]
  },
  {
   "cell_type": "code",
   "execution_count": 12,
   "metadata": {},
   "outputs": [],
   "source": [
    "def all_models():    \n",
    "    # Multi-linear regression Model. \n",
    "    regressor_multi = LinearRegression()\n",
    "    regressor_multi.fit(x_train,y_train)\n",
    "    # Let us check the accuray\n",
    "    accuracy = cross_val_score(estimator=regressor_multi, X=x_train, y=y_train,cv=10)\n",
    "    print(f\"The accuracy of the Multi-linear Regressor Model is \\t {accuracy.mean()}\")\n",
    "    print(f\"The deviation in the accuracy is \\t {accuracy.std()}\")\n",
    "    print()\n",
    "    \n",
    "    # Polynomial Regression\n",
    "    from sklearn.preprocessing import PolynomialFeatures\n",
    "    poly_reg=PolynomialFeatures(degree=4) #These 3 steps are to convert X matrix into X polynomial\n",
    "    x_poly=poly_reg.fit_transform(x_train) #matrix. \n",
    "    regressor_poly=LinearRegression()\n",
    "    regressor_poly.fit(x_poly,y_train)\n",
    "    # Let us check the accuray\n",
    "    accuracy = cross_val_score(estimator=regressor_poly, X=x_train, y=y_train,cv=10)\n",
    "    print(f\"The accuracy of the Polynomial Regression Model is \\t {accuracy.mean()}\")\n",
    "    print(f\"The deviation in the accuracy is \\t {accuracy.std()}\")\n",
    "    print()\n",
    "    \n",
    "    # Random Forest Model\n",
    "    regressor_random = RandomForestRegressor(n_estimators=100,)\n",
    "    regressor_random.fit(x_train,y_train)\n",
    "    # Let us check the accuray\n",
    "    accuracy = cross_val_score(estimator=regressor_random, X=x_train, y=y_train,cv=10)\n",
    "    print(f\"The accuracy of the Random Forest Model is \\t {accuracy.mean()}\")\n",
    "    print(f\"The deviation in the accuracy is \\t {accuracy.std()}\")\n",
    "    print()\n",
    "    \n",
    "    # SVR \n",
    "    regressor_svr = SVR(kernel='rbf')\n",
    "    regressor_svr.fit(x_train, y_train)\n",
    "    # Let us check the accuracy\n",
    "    accuracy = cross_val_score(estimator=regressor_svr, X=x_train, y=y_train,cv=10)\n",
    "    print(f\"The accuracy of the SVR Model is \\t {accuracy.mean()}\")\n",
    "    print(f\"The deviation in the accuracy is \\t {accuracy.std()}\")\n",
    "    print()\n",
    "    \n",
    "    # Decision Tress Model\n",
    "    regressor_deci = DecisionTreeRegressor()\n",
    "    regressor_deci.fit(x_train, y_train)\n",
    "    # Let us check the accuracy\n",
    "    accuracy = cross_val_score(estimator=regressor_deci, X=x_train, y=y_train,cv=10)\n",
    "    print(f\"The accuracy of the Decision Tree Model is \\t {accuracy.mean()}\")\n",
    "    print(f\"The deviation in the accuracy is \\t {accuracy.std()}\")\n",
    "    \n",
    "    \n",
    "\n",
    "    "
   ]
  },
  {
   "cell_type": "code",
   "execution_count": 13,
   "metadata": {},
   "outputs": [
    {
     "name": "stdout",
     "output_type": "stream",
     "text": [
      "The accuracy of the Multi-linear Regressor Model is \t 0.31904161896154715\n",
      "The deviation in the accuracy is \t 0.5478774225566655\n",
      "\n",
      "The accuracy of the Polynomial Regression Model is \t 0.31904161896154715\n",
      "The deviation in the accuracy is \t 0.5478774225566655\n",
      "\n",
      "The accuracy of the Random Forest Model is \t 0.07387251229577974\n",
      "The deviation in the accuracy is \t 0.8405028763584632\n",
      "\n",
      "The accuracy of the SVR Model is \t 0.1512322542013352\n",
      "The deviation in the accuracy is \t 0.4768063925439968\n",
      "\n",
      "The accuracy of the Decision Tree Model is \t -1.6836207146930928\n",
      "The deviation in the accuracy is \t 4.303504892217918\n"
     ]
    }
   ],
   "source": [
    "# Let us run all models together. If we have large dataset then we will not run all models together.\n",
    "# Then we will run one model at a time, otherwise your processor will struck down.\n",
    "all_models()"
   ]
  },
  {
   "cell_type": "markdown",
   "metadata": {},
   "source": [
    "#### Observation:-\n",
    "* The best model is Multi-linear Regression.\n",
    "* In multi-linear Regressio, we are getting the accuracy of 31% and deviation of 54%.\n",
    "* The accuracy we  are getting is not that much good due many factors like less quantity of dataset, data not collected properly, something  wrong at the time of web scraping."
   ]
  },
  {
   "cell_type": "code",
   "execution_count": null,
   "metadata": {},
   "outputs": [],
   "source": []
  }
 ],
 "metadata": {
  "kernelspec": {
   "display_name": "Python 3",
   "language": "python",
   "name": "python3"
  },
  "language_info": {
   "codemirror_mode": {
    "name": "ipython",
    "version": 3
   },
   "file_extension": ".py",
   "mimetype": "text/x-python",
   "name": "python",
   "nbconvert_exporter": "python",
   "pygments_lexer": "ipython3",
   "version": "3.7.0"
  }
 },
 "nbformat": 4,
 "nbformat_minor": 1
}
